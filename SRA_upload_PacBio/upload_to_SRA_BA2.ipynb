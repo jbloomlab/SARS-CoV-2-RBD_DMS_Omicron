{
 "cells": [
  {
   "cell_type": "markdown",
   "metadata": {},
   "source": [
    "# Upload sequencing data to SRA\n",
    "This Python Jupyter notebook uploads the sequencing data to the NIH [Sequence Read Archive](https://www.ncbi.nlm.nih.gov/sra), or SRA."
   ]
  },
  {
   "cell_type": "markdown",
   "metadata": {},
   "source": [
    "## Create BioProject and BioSamples\n",
    "The first step was done manually to create the BioProject and BioSamples. \n",
    "Note that for new future uploads related to the RBD DMS, you may be able to use the existing BioProject, but since this is the first entries in these project I needed to create a new BioProject.\n",
    "\n",
    "To create these, I went to the [Sequence Read Archive](https://www.ncbi.nlm.nih.gov/sra) and signed in using the box at the upper right of the webpage, and then went to the [SRA Submission Portal](https://submit.ncbi.nlm.nih.gov/subs/sra/).\n",
    "I then manually completed the first five steps, which define the project and samples.\n",
    "\n",
    "We use existing BioProject PRJNA770094 and registered a new BioSample "
   ]
  },
  {
   "cell_type": "markdown",
   "metadata": {},
   "source": [
    "## Create submission sheet\n",
    "The sixth step is to create the submission sheet in `*.tsv` format, which is done by the following code.\n",
    "\n",
    "First, import Python modules:"
   ]
  },
  {
   "cell_type": "code",
   "execution_count": 1,
   "metadata": {
    "execution": {
     "iopub.execute_input": "2022-02-14T21:14:35.174381Z",
     "iopub.status.busy": "2022-02-14T21:14:35.173921Z",
     "iopub.status.idle": "2022-02-14T21:14:37.093599Z",
     "shell.execute_reply": "2022-02-14T21:14:37.094417Z"
    }
   },
   "outputs": [],
   "source": [
    "import ftplib\n",
    "import os\n",
    "import tarfile\n",
    "import datetime\n",
    "\n",
    "import natsort\n",
    "\n",
    "import pandas as pd\n",
    "\n",
    "import yaml"
   ]
  },
  {
   "cell_type": "markdown",
   "metadata": {},
   "source": [
    "Read the configuration for the analysis:"
   ]
  },
  {
   "cell_type": "code",
   "execution_count": 2,
   "metadata": {
    "execution": {
     "iopub.execute_input": "2022-02-14T21:14:37.098120Z",
     "iopub.status.busy": "2022-02-14T21:14:37.097181Z",
     "iopub.status.idle": "2022-02-14T21:14:37.118531Z",
     "shell.execute_reply": "2022-02-14T21:14:37.119166Z"
    }
   },
   "outputs": [],
   "source": [
    "with open('../config.yaml') as f:\n",
    "    config = yaml.safe_load(f)"
   ]
  },
  {
   "cell_type": "markdown",
   "metadata": {},
   "source": [
    "Read the PacBio runs:"
   ]
  },
  {
   "cell_type": "code",
   "execution_count": 3,
   "metadata": {
    "execution": {
     "iopub.execute_input": "2022-02-14T21:14:37.121838Z",
     "iopub.status.busy": "2022-02-14T21:14:37.121091Z",
     "iopub.status.idle": "2022-02-14T21:14:37.148871Z",
     "shell.execute_reply": "2022-02-14T21:14:37.148438Z"
    }
   },
   "outputs": [
    {
     "name": "stdout",
     "output_type": "stream",
     "text": [
      "Reading PacBio runs from ./pacbio_runs_to_upload_BA2.csv\n"
     ]
    },
    {
     "data": {
      "text/html": [
       "<div>\n",
       "<style scoped>\n",
       "    .dataframe tbody tr th:only-of-type {\n",
       "        vertical-align: middle;\n",
       "    }\n",
       "\n",
       "    .dataframe tbody tr th {\n",
       "        vertical-align: top;\n",
       "    }\n",
       "\n",
       "    .dataframe thead th {\n",
       "        text-align: right;\n",
       "    }\n",
       "</style>\n",
       "<table border=\"1\" class=\"dataframe\">\n",
       "  <thead>\n",
       "    <tr style=\"text-align: right;\">\n",
       "      <th></th>\n",
       "      <th>library</th>\n",
       "      <th>bg</th>\n",
       "      <th>run</th>\n",
       "      <th>ccs</th>\n",
       "      <th>ccs_file</th>\n",
       "    </tr>\n",
       "  </thead>\n",
       "  <tbody>\n",
       "    <tr>\n",
       "      <th>0</th>\n",
       "      <td>pool1</td>\n",
       "      <td>Omicron_BA2</td>\n",
       "      <td>220524_B</td>\n",
       "      <td>demultiplex.bc1001_BAK8A_OA--bc1001_BAK8A_OA.h...</td>\n",
       "      <td>/fh/fast/bloom_j/SR/ngs/pacbio/220524_Bloom/Al...</td>\n",
       "    </tr>\n",
       "    <tr>\n",
       "      <th>1</th>\n",
       "      <td>pool2</td>\n",
       "      <td>Omicron_BA2</td>\n",
       "      <td>220524_B</td>\n",
       "      <td>demultiplex.bc1021_BAK8B_OA--bc1021_BAK8B_OA.h...</td>\n",
       "      <td>/fh/fast/bloom_j/SR/ngs/pacbio/220524_Bloom/Al...</td>\n",
       "    </tr>\n",
       "  </tbody>\n",
       "</table>\n",
       "</div>"
      ],
      "text/plain": [
       "  library           bg       run  \\\n",
       "0   pool1  Omicron_BA2  220524_B   \n",
       "1   pool2  Omicron_BA2  220524_B   \n",
       "\n",
       "                                                 ccs  \\\n",
       "0  demultiplex.bc1001_BAK8A_OA--bc1001_BAK8A_OA.h...   \n",
       "1  demultiplex.bc1021_BAK8B_OA--bc1021_BAK8B_OA.h...   \n",
       "\n",
       "                                            ccs_file  \n",
       "0  /fh/fast/bloom_j/SR/ngs/pacbio/220524_Bloom/Al...  \n",
       "1  /fh/fast/bloom_j/SR/ngs/pacbio/220524_Bloom/Al...  "
      ]
     },
     "execution_count": 3,
     "metadata": {},
     "output_type": "execute_result"
    }
   ],
   "source": [
    "pacbio_runs_file = os.path.join('./', 'pacbio_runs_to_upload_BA2.csv')\n",
    "\n",
    "print(f\"Reading PacBio runs from {pacbio_runs_file}\")\n",
    "\n",
    "pacbio_runs = (\n",
    "    pd.read_csv(pacbio_runs_file)\n",
    "#     .assign(ccs_file=lambda x: f\"../{config['ccs_dir']}/\" + x['library'] + '_' + x['run'] + '_ccs.fastq.gz')\n",
    "#    .assign(ccs_file=lambda x: x['ccs'])\n",
    "    )\n",
    "\n",
    "pacbio_runs.head()"
   ]
  },
  {
   "cell_type": "markdown",
   "metadata": {},
   "source": [
    "Next make submission entries for the PacBio CCSs:"
   ]
  },
  {
   "cell_type": "code",
   "execution_count": 4,
   "metadata": {
    "execution": {
     "iopub.execute_input": "2022-02-14T21:14:37.151812Z",
     "iopub.status.busy": "2022-02-14T21:14:37.150904Z",
     "iopub.status.idle": "2022-02-14T21:14:37.167581Z",
     "shell.execute_reply": "2022-02-14T21:14:37.168080Z"
    }
   },
   "outputs": [
    {
     "data": {
      "text/html": [
       "<div>\n",
       "<style scoped>\n",
       "    .dataframe tbody tr th:only-of-type {\n",
       "        vertical-align: middle;\n",
       "    }\n",
       "\n",
       "    .dataframe tbody tr th {\n",
       "        vertical-align: top;\n",
       "    }\n",
       "\n",
       "    .dataframe thead th {\n",
       "        text-align: right;\n",
       "    }\n",
       "</style>\n",
       "<table border=\"1\" class=\"dataframe\">\n",
       "  <thead>\n",
       "    <tr style=\"text-align: right;\">\n",
       "      <th></th>\n",
       "      <th>biosample_accession</th>\n",
       "      <th>library_ID</th>\n",
       "      <th>title</th>\n",
       "      <th>library_strategy</th>\n",
       "      <th>library_source</th>\n",
       "      <th>library_selection</th>\n",
       "      <th>library_layout</th>\n",
       "      <th>platform</th>\n",
       "      <th>instrument_model</th>\n",
       "      <th>design_description</th>\n",
       "      <th>filetype</th>\n",
       "      <th>filename_fullpath</th>\n",
       "    </tr>\n",
       "  </thead>\n",
       "  <tbody>\n",
       "    <tr>\n",
       "      <th>0</th>\n",
       "      <td>SAMN30603816</td>\n",
       "      <td>Omicron_BA2_pool1_PacBio_CCSs</td>\n",
       "      <td>PacBio CCSs linking variants to barcodes for S...</td>\n",
       "      <td>Synthetic-Long-Read</td>\n",
       "      <td>SYNTHETIC</td>\n",
       "      <td>Restriction Digest</td>\n",
       "      <td>single</td>\n",
       "      <td>PACBIO_SMRT</td>\n",
       "      <td>PacBio Sequel II</td>\n",
       "      <td>Restriction digest of plasmids carrying barcod...</td>\n",
       "      <td>fastq</td>\n",
       "      <td>/fh/fast/bloom_j/SR/ngs/pacbio/220524_Bloom/Al...</td>\n",
       "    </tr>\n",
       "    <tr>\n",
       "      <th>1</th>\n",
       "      <td>SAMN30603816</td>\n",
       "      <td>Omicron_BA2_pool2_PacBio_CCSs</td>\n",
       "      <td>PacBio CCSs linking variants to barcodes for S...</td>\n",
       "      <td>Synthetic-Long-Read</td>\n",
       "      <td>SYNTHETIC</td>\n",
       "      <td>Restriction Digest</td>\n",
       "      <td>single</td>\n",
       "      <td>PACBIO_SMRT</td>\n",
       "      <td>PacBio Sequel II</td>\n",
       "      <td>Restriction digest of plasmids carrying barcod...</td>\n",
       "      <td>fastq</td>\n",
       "      <td>/fh/fast/bloom_j/SR/ngs/pacbio/220524_Bloom/Al...</td>\n",
       "    </tr>\n",
       "  </tbody>\n",
       "</table>\n",
       "</div>"
      ],
      "text/plain": [
       "  biosample_accession                     library_ID  \\\n",
       "0        SAMN30603816  Omicron_BA2_pool1_PacBio_CCSs   \n",
       "1        SAMN30603816  Omicron_BA2_pool2_PacBio_CCSs   \n",
       "\n",
       "                                               title     library_strategy  \\\n",
       "0  PacBio CCSs linking variants to barcodes for S...  Synthetic-Long-Read   \n",
       "1  PacBio CCSs linking variants to barcodes for S...  Synthetic-Long-Read   \n",
       "\n",
       "  library_source   library_selection library_layout     platform  \\\n",
       "0      SYNTHETIC  Restriction Digest         single  PACBIO_SMRT   \n",
       "1      SYNTHETIC  Restriction Digest         single  PACBIO_SMRT   \n",
       "\n",
       "   instrument_model                                 design_description  \\\n",
       "0  PacBio Sequel II  Restriction digest of plasmids carrying barcod...   \n",
       "1  PacBio Sequel II  Restriction digest of plasmids carrying barcod...   \n",
       "\n",
       "  filetype                                  filename_fullpath  \n",
       "0    fastq  /fh/fast/bloom_j/SR/ngs/pacbio/220524_Bloom/Al...  \n",
       "1    fastq  /fh/fast/bloom_j/SR/ngs/pacbio/220524_Bloom/Al...  "
      ]
     },
     "execution_count": 4,
     "metadata": {},
     "output_type": "execute_result"
    }
   ],
   "source": [
    "pacbio_submissions = (\n",
    "    pacbio_runs\n",
    "    .assign(\n",
    "        biosample_accession='SAMN30603816',\n",
    "        library_ID=lambda x: x['bg'] + '_' + x['library'] + '_PacBio_CCSs',  # unique library ID\n",
    "        title='PacBio CCSs linking variants to barcodes for SARS-CoV-2 variant RBD deep mutational scanning',\n",
    "        library_strategy='Synthetic-Long-Read',\n",
    "        library_source='SYNTHETIC',\n",
    "        library_selection='Restriction Digest',\n",
    "        library_layout='single',\n",
    "        platform='PACBIO_SMRT',\n",
    "        instrument_model='PacBio Sequel II',\n",
    "        design_description='Restriction digest of plasmids carrying barcoded RBD variants',\n",
    "        filetype='fastq',\n",
    "        #filename_nickname=lambda x: x['ccs'],      \n",
    "        filename_fullpath=lambda x: x['ccs_file'],      \n",
    "        )\n",
    "    .drop(columns=pacbio_runs.columns)\n",
    "    )\n",
    "\n",
    "pacbio_submissions.head()"
   ]
  },
  {
   "cell_type": "markdown",
   "metadata": {},
   "source": [
    "Now concatenate the PacBio submissions into tidy format (one line per file), make sure all the files exist."
   ]
  },
  {
   "cell_type": "code",
   "execution_count": 5,
   "metadata": {
    "execution": {
     "iopub.execute_input": "2022-02-14T21:14:37.170578Z",
     "iopub.status.busy": "2022-02-14T21:14:37.169845Z",
     "iopub.status.idle": "2022-02-14T21:14:37.219252Z",
     "shell.execute_reply": "2022-02-14T21:14:37.219810Z"
    }
   },
   "outputs": [
    {
     "data": {
      "text/html": [
       "<div>\n",
       "<style scoped>\n",
       "    .dataframe tbody tr th:only-of-type {\n",
       "        vertical-align: middle;\n",
       "    }\n",
       "\n",
       "    .dataframe tbody tr th {\n",
       "        vertical-align: top;\n",
       "    }\n",
       "\n",
       "    .dataframe thead th {\n",
       "        text-align: right;\n",
       "    }\n",
       "</style>\n",
       "<table border=\"1\" class=\"dataframe\">\n",
       "  <thead>\n",
       "    <tr style=\"text-align: right;\">\n",
       "      <th></th>\n",
       "      <th>biosample_accession</th>\n",
       "      <th>library_ID</th>\n",
       "      <th>title</th>\n",
       "      <th>library_strategy</th>\n",
       "      <th>library_source</th>\n",
       "      <th>library_selection</th>\n",
       "      <th>library_layout</th>\n",
       "      <th>platform</th>\n",
       "      <th>instrument_model</th>\n",
       "      <th>design_description</th>\n",
       "      <th>filetype</th>\n",
       "      <th>filename_fullpath</th>\n",
       "      <th>file_exists</th>\n",
       "      <th>filename</th>\n",
       "    </tr>\n",
       "  </thead>\n",
       "  <tbody>\n",
       "    <tr>\n",
       "      <th>0</th>\n",
       "      <td>SAMN30603816</td>\n",
       "      <td>Omicron_BA2_pool1_PacBio_CCSs</td>\n",
       "      <td>PacBio CCSs linking variants to barcodes for S...</td>\n",
       "      <td>Synthetic-Long-Read</td>\n",
       "      <td>SYNTHETIC</td>\n",
       "      <td>Restriction Digest</td>\n",
       "      <td>single</td>\n",
       "      <td>PACBIO_SMRT</td>\n",
       "      <td>PacBio Sequel II</td>\n",
       "      <td>Restriction digest of plasmids carrying barcod...</td>\n",
       "      <td>fastq</td>\n",
       "      <td>/fh/fast/bloom_j/SR/ngs/pacbio/220524_Bloom/Al...</td>\n",
       "      <td>True</td>\n",
       "      <td>demultiplex.bc1001_BAK8A_OA--bc1001_BAK8A_OA.h...</td>\n",
       "    </tr>\n",
       "    <tr>\n",
       "      <th>1</th>\n",
       "      <td>SAMN30603816</td>\n",
       "      <td>Omicron_BA2_pool2_PacBio_CCSs</td>\n",
       "      <td>PacBio CCSs linking variants to barcodes for S...</td>\n",
       "      <td>Synthetic-Long-Read</td>\n",
       "      <td>SYNTHETIC</td>\n",
       "      <td>Restriction Digest</td>\n",
       "      <td>single</td>\n",
       "      <td>PACBIO_SMRT</td>\n",
       "      <td>PacBio Sequel II</td>\n",
       "      <td>Restriction digest of plasmids carrying barcod...</td>\n",
       "      <td>fastq</td>\n",
       "      <td>/fh/fast/bloom_j/SR/ngs/pacbio/220524_Bloom/Al...</td>\n",
       "      <td>True</td>\n",
       "      <td>demultiplex.bc1021_BAK8B_OA--bc1021_BAK8B_OA.h...</td>\n",
       "    </tr>\n",
       "  </tbody>\n",
       "</table>\n",
       "</div>"
      ],
      "text/plain": [
       "  biosample_accession                     library_ID  \\\n",
       "0        SAMN30603816  Omicron_BA2_pool1_PacBio_CCSs   \n",
       "1        SAMN30603816  Omicron_BA2_pool2_PacBio_CCSs   \n",
       "\n",
       "                                               title     library_strategy  \\\n",
       "0  PacBio CCSs linking variants to barcodes for S...  Synthetic-Long-Read   \n",
       "1  PacBio CCSs linking variants to barcodes for S...  Synthetic-Long-Read   \n",
       "\n",
       "  library_source   library_selection library_layout     platform  \\\n",
       "0      SYNTHETIC  Restriction Digest         single  PACBIO_SMRT   \n",
       "1      SYNTHETIC  Restriction Digest         single  PACBIO_SMRT   \n",
       "\n",
       "   instrument_model                                 design_description  \\\n",
       "0  PacBio Sequel II  Restriction digest of plasmids carrying barcod...   \n",
       "1  PacBio Sequel II  Restriction digest of plasmids carrying barcod...   \n",
       "\n",
       "  filetype                                  filename_fullpath  file_exists  \\\n",
       "0    fastq  /fh/fast/bloom_j/SR/ngs/pacbio/220524_Bloom/Al...         True   \n",
       "1    fastq  /fh/fast/bloom_j/SR/ngs/pacbio/220524_Bloom/Al...         True   \n",
       "\n",
       "                                            filename  \n",
       "0  demultiplex.bc1001_BAK8A_OA--bc1001_BAK8A_OA.h...  \n",
       "1  demultiplex.bc1021_BAK8B_OA--bc1021_BAK8B_OA.h...  "
      ]
     },
     "execution_count": 5,
     "metadata": {},
     "output_type": "execute_result"
    }
   ],
   "source": [
    "submissions_tidy = (\n",
    "    pd.concat([pacbio_submissions], ignore_index=True)\n",
    "    .assign(file_exists=lambda x: x['filename_fullpath'].map(os.path.isfile),\n",
    "            filename=lambda x: x['filename_fullpath'].map(os.path.basename),\n",
    "            )\n",
    "    )\n",
    "\n",
    "assert submissions_tidy['file_exists'].all(), submissions_tidy.query('file_exists == False')\n",
    "\n",
    "submissions_tidy.head()"
   ]
  },
  {
   "cell_type": "markdown",
   "metadata": {},
   "source": [
    "For the actual submission, we need a \"wide\" data frame that for each unique `sample_name` / `library_ID` gives all of the files each in different columns.\n",
    "These should be files without the full path.\n",
    "\n",
    "First, look at how many files there are for each sample / library:"
   ]
  },
  {
   "cell_type": "code",
   "execution_count": 6,
   "metadata": {
    "execution": {
     "iopub.execute_input": "2022-02-14T21:14:37.222323Z",
     "iopub.status.busy": "2022-02-14T21:14:37.221591Z",
     "iopub.status.idle": "2022-02-14T21:14:37.234241Z",
     "shell.execute_reply": "2022-02-14T21:14:37.234729Z"
    }
   },
   "outputs": [
    {
     "data": {
      "text/html": [
       "<div>\n",
       "<style scoped>\n",
       "    .dataframe tbody tr th:only-of-type {\n",
       "        vertical-align: middle;\n",
       "    }\n",
       "\n",
       "    .dataframe tbody tr th {\n",
       "        vertical-align: top;\n",
       "    }\n",
       "\n",
       "    .dataframe thead th {\n",
       "        text-align: right;\n",
       "    }\n",
       "</style>\n",
       "<table border=\"1\" class=\"dataframe\">\n",
       "  <thead>\n",
       "    <tr style=\"text-align: right;\">\n",
       "      <th></th>\n",
       "      <th>biosample_accession</th>\n",
       "      <th>library_ID</th>\n",
       "      <th>n_files</th>\n",
       "    </tr>\n",
       "  </thead>\n",
       "  <tbody>\n",
       "    <tr>\n",
       "      <th>0</th>\n",
       "      <td>SAMN30603816</td>\n",
       "      <td>Omicron_BA2_pool1_PacBio_CCSs</td>\n",
       "      <td>1</td>\n",
       "    </tr>\n",
       "    <tr>\n",
       "      <th>1</th>\n",
       "      <td>SAMN30603816</td>\n",
       "      <td>Omicron_BA2_pool2_PacBio_CCSs</td>\n",
       "      <td>1</td>\n",
       "    </tr>\n",
       "  </tbody>\n",
       "</table>\n",
       "</div>"
      ],
      "text/plain": [
       "  biosample_accession                     library_ID  n_files\n",
       "0        SAMN30603816  Omicron_BA2_pool1_PacBio_CCSs        1\n",
       "1        SAMN30603816  Omicron_BA2_pool2_PacBio_CCSs        1"
      ]
     },
     "execution_count": 6,
     "metadata": {},
     "output_type": "execute_result"
    }
   ],
   "source": [
    "(submissions_tidy\n",
    " .groupby(['biosample_accession', 'library_ID'])\n",
    " .aggregate(n_files=pd.NamedAgg('filename_fullpath', 'count'))\n",
    " .sort_values('n_files', ascending=False)\n",
    " .reset_index()\n",
    " )"
   ]
  },
  {
   "cell_type": "markdown",
   "metadata": {},
   "source": [
    "Now make the wide submission data frame."
   ]
  },
  {
   "cell_type": "code",
   "execution_count": 7,
   "metadata": {
    "execution": {
     "iopub.execute_input": "2022-02-14T21:14:37.237150Z",
     "iopub.status.busy": "2022-02-14T21:14:37.236424Z",
     "iopub.status.idle": "2022-02-14T21:14:37.256951Z",
     "shell.execute_reply": "2022-02-14T21:14:37.257435Z"
    }
   },
   "outputs": [
    {
     "data": {
      "text/html": [
       "<div>\n",
       "<style scoped>\n",
       "    .dataframe tbody tr th:only-of-type {\n",
       "        vertical-align: middle;\n",
       "    }\n",
       "\n",
       "    .dataframe tbody tr th {\n",
       "        vertical-align: top;\n",
       "    }\n",
       "\n",
       "    .dataframe thead th {\n",
       "        text-align: right;\n",
       "    }\n",
       "</style>\n",
       "<table border=\"1\" class=\"dataframe\">\n",
       "  <thead>\n",
       "    <tr style=\"text-align: right;\">\n",
       "      <th></th>\n",
       "      <th>biosample_accession</th>\n",
       "      <th>library_ID</th>\n",
       "      <th>title</th>\n",
       "      <th>library_strategy</th>\n",
       "      <th>library_source</th>\n",
       "      <th>library_selection</th>\n",
       "      <th>library_layout</th>\n",
       "      <th>platform</th>\n",
       "      <th>instrument_model</th>\n",
       "      <th>design_description</th>\n",
       "      <th>filetype</th>\n",
       "      <th>filename</th>\n",
       "    </tr>\n",
       "  </thead>\n",
       "  <tbody>\n",
       "    <tr>\n",
       "      <th>0</th>\n",
       "      <td>SAMN30603816</td>\n",
       "      <td>Omicron_BA2_pool1_PacBio_CCSs</td>\n",
       "      <td>PacBio CCSs linking variants to barcodes for S...</td>\n",
       "      <td>Synthetic-Long-Read</td>\n",
       "      <td>SYNTHETIC</td>\n",
       "      <td>Restriction Digest</td>\n",
       "      <td>single</td>\n",
       "      <td>PACBIO_SMRT</td>\n",
       "      <td>PacBio Sequel II</td>\n",
       "      <td>Restriction digest of plasmids carrying barcod...</td>\n",
       "      <td>fastq</td>\n",
       "      <td>demultiplex.bc1001_BAK8A_OA--bc1001_BAK8A_OA.h...</td>\n",
       "    </tr>\n",
       "    <tr>\n",
       "      <th>1</th>\n",
       "      <td>SAMN30603816</td>\n",
       "      <td>Omicron_BA2_pool2_PacBio_CCSs</td>\n",
       "      <td>PacBio CCSs linking variants to barcodes for S...</td>\n",
       "      <td>Synthetic-Long-Read</td>\n",
       "      <td>SYNTHETIC</td>\n",
       "      <td>Restriction Digest</td>\n",
       "      <td>single</td>\n",
       "      <td>PACBIO_SMRT</td>\n",
       "      <td>PacBio Sequel II</td>\n",
       "      <td>Restriction digest of plasmids carrying barcod...</td>\n",
       "      <td>fastq</td>\n",
       "      <td>demultiplex.bc1021_BAK8B_OA--bc1021_BAK8B_OA.h...</td>\n",
       "    </tr>\n",
       "  </tbody>\n",
       "</table>\n",
       "</div>"
      ],
      "text/plain": [
       "  biosample_accession                     library_ID  \\\n",
       "0        SAMN30603816  Omicron_BA2_pool1_PacBio_CCSs   \n",
       "1        SAMN30603816  Omicron_BA2_pool2_PacBio_CCSs   \n",
       "\n",
       "                                               title     library_strategy  \\\n",
       "0  PacBio CCSs linking variants to barcodes for S...  Synthetic-Long-Read   \n",
       "1  PacBio CCSs linking variants to barcodes for S...  Synthetic-Long-Read   \n",
       "\n",
       "  library_source   library_selection library_layout     platform  \\\n",
       "0      SYNTHETIC  Restriction Digest         single  PACBIO_SMRT   \n",
       "1      SYNTHETIC  Restriction Digest         single  PACBIO_SMRT   \n",
       "\n",
       "   instrument_model                                 design_description  \\\n",
       "0  PacBio Sequel II  Restriction digest of plasmids carrying barcod...   \n",
       "1  PacBio Sequel II  Restriction digest of plasmids carrying barcod...   \n",
       "\n",
       "  filetype                                           filename  \n",
       "0    fastq  demultiplex.bc1001_BAK8A_OA--bc1001_BAK8A_OA.h...  \n",
       "1    fastq  demultiplex.bc1021_BAK8B_OA--bc1021_BAK8B_OA.h...  "
      ]
     },
     "execution_count": 7,
     "metadata": {},
     "output_type": "execute_result"
    }
   ],
   "source": [
    "submissions_wide = (\n",
    "    submissions_tidy\n",
    "    .assign(\n",
    "        filename_count=lambda x: x.groupby(['biosample_accession', 'library_ID'])['filename'].cumcount() + 1,\n",
    "        filename_col=lambda x: 'filename' + x['filename_count'].map(lambda c: str(c) if c > 1 else '')\n",
    "        )\n",
    "    .pivot(\n",
    "        index='library_ID',\n",
    "        columns='filename_col',\n",
    "        values='filename',\n",
    "        )\n",
    "    )\n",
    "\n",
    "submissions_wide = (\n",
    "    submissions_tidy\n",
    "    .drop(columns=['filename_fullpath', 'file_exists', 'filename'])\n",
    "    .drop_duplicates()\n",
    "    .merge(submissions_wide[natsort.natsorted(submissions_wide.columns)],\n",
    "           on='library_ID',\n",
    "           validate='one_to_one',\n",
    "           )\n",
    "    )\n",
    "\n",
    "submissions_wide"
   ]
  },
  {
   "cell_type": "markdown",
   "metadata": {},
   "source": [
    "Now write the wide submissions data frame to a `*.tsv` file:"
   ]
  },
  {
   "cell_type": "code",
   "execution_count": 8,
   "metadata": {
    "execution": {
     "iopub.execute_input": "2022-02-14T21:14:37.259854Z",
     "iopub.status.busy": "2022-02-14T21:14:37.259119Z",
     "iopub.status.idle": "2022-02-14T21:14:37.270274Z",
     "shell.execute_reply": "2022-02-14T21:14:37.271039Z"
    }
   },
   "outputs": [],
   "source": [
    "submissions_spreadsheet = 'SRA_submission_spreadsheet_BA2.tsv'\n",
    "\n",
    "submissions_wide.to_csv(submissions_spreadsheet, sep='\\t', index=False)"
   ]
  },
  {
   "cell_type": "markdown",
   "metadata": {},
   "source": [
    "This submission sheet was then manually uploaded in Step 6 of the SRA submission wizard (*SRA metadata*)."
   ]
  },
  {
   "cell_type": "markdown",
   "metadata": {},
   "source": [
    "## Upload the actual files\n",
    "Step 7 of the SRA submission wizard is to upload the files.\n",
    "In order to do this, we first make a `*.tar` file with all of the files.\n",
    "Since this takes a long time, we only create the file if it doesn't already exist, so it is only created the first time this notebook is run.\n",
    "**Note that this will cause a problem if you add more sequencing files to upload after running the notebook, in that case the cell below will need to altered.**"
   ]
  },
  {
   "cell_type": "code",
   "execution_count": 9,
   "metadata": {
    "execution": {
     "iopub.execute_input": "2022-02-14T21:14:37.274727Z",
     "iopub.status.busy": "2022-02-14T21:14:37.273608Z",
     "iopub.status.idle": "2022-02-14T21:14:37.281682Z",
     "shell.execute_reply": "2022-02-14T21:14:37.282170Z"
    }
   },
   "outputs": [
    {
     "name": "stdout",
     "output_type": "stream",
     "text": [
      "Adding file 1 of 2 to SRA_submission_BA2.tar\n",
      "Adding file 2 of 2 to SRA_submission_BA2.tar\n",
      "Added all files to SRA_submission_BA2.tar\n"
     ]
    }
   ],
   "source": [
    "tar_filename = 'SRA_submission_BA2.tar'\n",
    "\n",
    "if os.path.isfile(tar_filename):\n",
    "    print(f\"{tar_filename} already exists, not creating it again\")\n",
    "else:\n",
    "    try:\n",
    "        with tarfile.open(tar_filename, mode='w') as f:\n",
    "            for i, tup in enumerate(submissions_tidy.itertuples()):\n",
    "                print(f\"Adding file {i + 1} of {len(submissions_tidy)} to {tar_filename}\")\n",
    "                f.add(tup.filename_fullpath, arcname=tup.filename_fullpath)\n",
    "            print(f\"Added all files to {tar_filename}\")\n",
    "    except:\n",
    "        if os.path.isfile(tar_filename):\n",
    "            os.remove(tar_filename)\n",
    "        raise"
   ]
  },
  {
   "cell_type": "markdown",
   "metadata": {},
   "source": [
    "See the size of the `*.tar` file to upload and make sure it has the expected files:\n",
    "\n",
    "Note: the filenames in the `*.tar` file lack the initial backslash, but i confirmed manually that all are present"
   ]
  },
  {
   "cell_type": "code",
   "execution_count": 11,
   "metadata": {
    "execution": {
     "iopub.execute_input": "2022-02-14T21:14:37.284537Z",
     "iopub.status.busy": "2022-02-14T21:14:37.283804Z",
     "iopub.status.idle": "2022-02-14T21:14:37.325670Z",
     "shell.execute_reply": "2022-02-14T21:14:37.326407Z"
    }
   },
   "outputs": [
    {
     "name": "stdout",
     "output_type": "stream",
     "text": [
      "The size of SRA_submission_BA2.tar is 1.1 GB\n",
      "{'fh/fast/bloom_j/SR/ngs/pacbio/220524_Bloom/Allie_Pool2-Cell3/demultiplex.bc1001_BAK8A_OA--bc1001_BAK8A_OA.hifi_reads.fastq.gz', 'fh/fast/bloom_j/SR/ngs/pacbio/220524_Bloom/Allie_Pool2-Cell3/demultiplex.bc1021_BAK8B_OA--bc1021_BAK8B_OA.hifi_reads.fastq.gz'}\n",
      "{'/fh/fast/bloom_j/SR/ngs/pacbio/220524_Bloom/Allie_Pool2-Cell3/demultiplex.bc1021_BAK8B_OA--bc1021_BAK8B_OA.hifi_reads.fastq.gz', '/fh/fast/bloom_j/SR/ngs/pacbio/220524_Bloom/Allie_Pool2-Cell3/demultiplex.bc1001_BAK8A_OA--bc1001_BAK8A_OA.hifi_reads.fastq.gz'}\n"
     ]
    }
   ],
   "source": [
    "print(f\"The size of {tar_filename} is {os.path.getsize(tar_filename) / 1e9:.1f} GB\")\n",
    "\n",
    "with tarfile.open(tar_filename) as f:\n",
    "    files_in_tar = set(f.getnames())\n",
    "    print(files_in_tar)\n",
    "    print(set(submissions_tidy['filename_fullpath']))\n",
    "#if files_in_tar == set(submissions_tidy['filename_fullpath']):\n",
    "#    print(f\"{tar_filename} contains all {len(files_in_tar)} expected files.\")\n",
    "#else:\n",
    "#    raise ValueError(f\"{tar_filename} does not have all the expected files.\")"
   ]
  },
  {
   "cell_type": "markdown",
   "metadata": {},
   "source": [
    "The SRA instructions then give several ways to upload; we will do it using the FTP method.\n",
    "First, specify the FTP address, username, password, and subfolder given by the SRA submission wizard instructions.\n",
    "In order to avoid having the password be public here, that is in a separate text file that is **not** included in the GitHub repo (so this needs to be run in Tyler's directory that has this password):"
   ]
  },
  {
   "cell_type": "code",
   "execution_count": 12,
   "metadata": {
    "execution": {
     "iopub.execute_input": "2022-02-14T21:14:37.330005Z",
     "iopub.status.busy": "2022-02-14T21:14:37.328946Z",
     "iopub.status.idle": "2022-02-14T21:14:37.335404Z",
     "shell.execute_reply": "2022-02-14T21:14:37.335971Z"
    }
   },
   "outputs": [],
   "source": [
    "# the following are provided by SRA wizard insturctions\n",
    "ftp_address = 'ftp-private.ncbi.nlm.nih.gov'\n",
    "ftp_username = 'subftp'\n",
    "ftp_account_folder = 'uploads/tyler.n.starr_gmail.com_LMpRB4Tu'\n",
    "with open('ftp_password.txt') as f:\n",
    "    ftp_password = f.read().strip()\n",
    "    \n",
    "# meaningful name for subfolder\n",
    "ftp_subfolder = 'BA2_RBD_barcodes'"
   ]
  },
  {
   "cell_type": "markdown",
   "metadata": {},
   "source": [
    "Now create FTP connection and upload the TAR file.\n",
    "Note that this takes a while.\n",
    "If you are worried that it will timeout given the size of your file, you can run this notebook via `slurm` so there is no timing out:"
   ]
  },
  {
   "cell_type": "code",
   "execution_count": 13,
   "metadata": {
    "execution": {
     "iopub.execute_input": "2022-02-14T21:14:37.338757Z",
     "iopub.status.busy": "2022-02-14T21:14:37.337921Z",
     "iopub.status.idle": "2022-02-14T21:40:28.595184Z",
     "shell.execute_reply": "2022-02-14T21:40:28.596108Z"
    }
   },
   "outputs": [
    {
     "name": "stdout",
     "output_type": "stream",
     "text": [
      "Starting upload at 2022-08-30 15:40:37.105661\n",
      "Finished upload at 2022-08-30 16:36:25.454629\n"
     ]
    }
   ],
   "source": [
    "print(f\"Starting upload at {datetime.datetime.now()}\")\n",
    "\n",
    "with ftplib.FTP(ftp_address) as ftp:\n",
    "    ftp.login(user=ftp_username,\n",
    "              passwd=ftp_password,\n",
    "              )\n",
    "    ftp.cwd(ftp_account_folder)\n",
    "    ftp.mkd(ftp_subfolder)\n",
    "    ftp.cwd(ftp_subfolder)\n",
    "    with open(tar_filename, 'rb') as f:\n",
    "        ftp.storbinary(f\"STOR {tar_filename}\", f)\n",
    "        \n",
    "print(f\"Finished upload at {datetime.datetime.now()}\")"
   ]
  },
  {
   "cell_type": "markdown",
   "metadata": {},
   "source": [
    "Finally, used the SRA wizard to select the `*.tar` archive and complete the submission.\n",
    "Note that there is a warning of missing files since everything was uploaded as a `*.tar` rather than individual files.\n",
    "They should all be found when you hit the button to proceed and the `*.tar` is unpacked.\n",
    "\n",
    "There was then a message that the submission was processing, and data would be released immediately upon processing.\n",
    "The submission number is `SUB11087053`."
   ]
  },
  {
   "cell_type": "code",
   "execution_count": null,
   "metadata": {},
   "outputs": [],
   "source": []
  }
 ],
 "metadata": {
  "kernelspec": {
   "display_name": "Python 3 (ipykernel)",
   "language": "python",
   "name": "python3"
  },
  "language_info": {
   "codemirror_mode": {
    "name": "ipython",
    "version": 3
   },
   "file_extension": ".py",
   "mimetype": "text/x-python",
   "name": "python",
   "nbconvert_exporter": "python",
   "pygments_lexer": "ipython3",
   "version": "3.8.13"
  }
 },
 "nbformat": 4,
 "nbformat_minor": 4
}

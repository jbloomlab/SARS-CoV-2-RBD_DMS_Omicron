{
 "cells": [
  {
   "cell_type": "markdown",
   "metadata": {},
   "source": [
    "# Create TAR file of FASTQs and upload to SRA\n",
    "This Python Jupyter notebook creates a `*.tar` file of the FASTQs and uploads them to the SRA.\n",
    "\n",
    "First, import Python modules:"
   ]
  },
  {
   "cell_type": "code",
   "execution_count": 1,
   "metadata": {
    "execution": {
     "iopub.execute_input": "2022-08-30T23:11:13.154165Z",
     "iopub.status.busy": "2022-08-30T23:11:13.153745Z",
     "iopub.status.idle": "2022-08-30T23:11:22.217781Z",
     "shell.execute_reply": "2022-08-30T23:11:22.216927Z"
    }
   },
   "outputs": [],
   "source": [
    "import datetime\n",
    "import ftplib\n",
    "import os\n",
    "import tarfile\n",
    "\n",
    "import pandas as pd\n",
    "\n",
    "import yaml"
   ]
  },
  {
   "cell_type": "markdown",
   "metadata": {},
   "source": [
    "Read in the FASTQ files to upload:"
   ]
  },
  {
   "cell_type": "code",
   "execution_count": 2,
   "metadata": {
    "execution": {
     "iopub.execute_input": "2022-08-30T23:11:22.223419Z",
     "iopub.status.busy": "2022-08-30T23:11:22.222085Z",
     "iopub.status.idle": "2022-08-30T23:11:22.233560Z",
     "shell.execute_reply": "2022-08-30T23:11:22.233127Z"
    }
   },
   "outputs": [],
   "source": [
    "with open('upload_config.yaml') as f:\n",
    "    config = yaml.safe_load(f)\n",
    "    \n",
    "fastqs = pd.read_csv('FASTQs_to_upload.csv')"
   ]
  },
  {
   "cell_type": "markdown",
   "metadata": {},
   "source": [
    "Now we need to make a `*.tar` file with all of the files.\n",
    "Note that this step **will take a long time to run**."
   ]
  },
  {
   "cell_type": "code",
   "execution_count": 3,
   "metadata": {
    "execution": {
     "iopub.execute_input": "2022-08-30T23:11:22.237365Z",
     "iopub.status.busy": "2022-08-30T23:11:22.236343Z",
     "iopub.status.idle": "2022-08-30T23:15:38.923520Z",
     "shell.execute_reply": "2022-08-30T23:15:38.922160Z"
    }
   },
   "outputs": [
    {
     "name": "stdout",
     "output_type": "stream",
     "text": [
      "Adding file 1 of 98 to SRA_submission.tar\n",
      "Adding file 2 of 98 to SRA_submission.tar\n",
      "Adding file 3 of 98 to SRA_submission.tar\n",
      "Adding file 4 of 98 to SRA_submission.tar\n",
      "Adding file 5 of 98 to SRA_submission.tar\n",
      "Adding file 6 of 98 to SRA_submission.tar\n",
      "Adding file 7 of 98 to SRA_submission.tar\n",
      "Adding file 8 of 98 to SRA_submission.tar\n",
      "Adding file 9 of 98 to SRA_submission.tar\n",
      "Adding file 10 of 98 to SRA_submission.tar\n",
      "Adding file 11 of 98 to SRA_submission.tar\n",
      "Adding file 12 of 98 to SRA_submission.tar\n",
      "Adding file 13 of 98 to SRA_submission.tar\n",
      "Adding file 14 of 98 to SRA_submission.tar\n",
      "Adding file 15 of 98 to SRA_submission.tar\n",
      "Adding file 16 of 98 to SRA_submission.tar\n",
      "Adding file 17 of 98 to SRA_submission.tar\n",
      "Adding file 18 of 98 to SRA_submission.tar\n",
      "Adding file 19 of 98 to SRA_submission.tar\n",
      "Adding file 20 of 98 to SRA_submission.tar\n",
      "Adding file 21 of 98 to SRA_submission.tar\n",
      "Adding file 22 of 98 to SRA_submission.tar\n",
      "Adding file 23 of 98 to SRA_submission.tar\n",
      "Adding file 24 of 98 to SRA_submission.tar\n",
      "Adding file 25 of 98 to SRA_submission.tar\n",
      "Adding file 26 of 98 to SRA_submission.tar\n",
      "Adding file 27 of 98 to SRA_submission.tar\n",
      "Adding file 28 of 98 to SRA_submission.tar\n",
      "Adding file 29 of 98 to SRA_submission.tar\n",
      "Adding file 30 of 98 to SRA_submission.tar\n",
      "Adding file 31 of 98 to SRA_submission.tar\n",
      "Adding file 32 of 98 to SRA_submission.tar\n",
      "Adding file 33 of 98 to SRA_submission.tar\n",
      "Adding file 34 of 98 to SRA_submission.tar\n",
      "Adding file 35 of 98 to SRA_submission.tar\n",
      "Adding file 36 of 98 to SRA_submission.tar\n",
      "Adding file 37 of 98 to SRA_submission.tar\n",
      "Adding file 38 of 98 to SRA_submission.tar\n",
      "Adding file 39 of 98 to SRA_submission.tar\n",
      "Adding file 40 of 98 to SRA_submission.tar\n",
      "Adding file 41 of 98 to SRA_submission.tar\n",
      "Adding file 42 of 98 to SRA_submission.tar\n",
      "Adding file 43 of 98 to SRA_submission.tar\n",
      "Adding file 44 of 98 to SRA_submission.tar\n",
      "Adding file 45 of 98 to SRA_submission.tar\n",
      "Adding file 46 of 98 to SRA_submission.tar\n",
      "Adding file 47 of 98 to SRA_submission.tar\n",
      "Adding file 48 of 98 to SRA_submission.tar\n",
      "Adding file 49 of 98 to SRA_submission.tar\n",
      "Adding file 50 of 98 to SRA_submission.tar\n",
      "Adding file 51 of 98 to SRA_submission.tar\n",
      "Adding file 52 of 98 to SRA_submission.tar\n",
      "Adding file 53 of 98 to SRA_submission.tar\n",
      "Adding file 54 of 98 to SRA_submission.tar\n",
      "Adding file 55 of 98 to SRA_submission.tar\n",
      "Adding file 56 of 98 to SRA_submission.tar\n",
      "Adding file 57 of 98 to SRA_submission.tar\n",
      "Adding file 58 of 98 to SRA_submission.tar\n",
      "Adding file 59 of 98 to SRA_submission.tar\n",
      "Adding file 60 of 98 to SRA_submission.tar\n",
      "Adding file 61 of 98 to SRA_submission.tar\n",
      "Adding file 62 of 98 to SRA_submission.tar\n",
      "Adding file 63 of 98 to SRA_submission.tar\n",
      "Adding file 64 of 98 to SRA_submission.tar\n",
      "Adding file 65 of 98 to SRA_submission.tar\n",
      "Adding file 66 of 98 to SRA_submission.tar\n",
      "Adding file 67 of 98 to SRA_submission.tar\n",
      "Adding file 68 of 98 to SRA_submission.tar\n",
      "Adding file 69 of 98 to SRA_submission.tar\n",
      "Adding file 70 of 98 to SRA_submission.tar\n",
      "Adding file 71 of 98 to SRA_submission.tar\n",
      "Adding file 72 of 98 to SRA_submission.tar\n",
      "Adding file 73 of 98 to SRA_submission.tar\n",
      "Adding file 74 of 98 to SRA_submission.tar\n",
      "Adding file 75 of 98 to SRA_submission.tar\n",
      "Adding file 76 of 98 to SRA_submission.tar\n",
      "Adding file 77 of 98 to SRA_submission.tar\n",
      "Adding file 78 of 98 to SRA_submission.tar\n",
      "Adding file 79 of 98 to SRA_submission.tar\n",
      "Adding file 80 of 98 to SRA_submission.tar\n",
      "Adding file 81 of 98 to SRA_submission.tar\n",
      "Adding file 82 of 98 to SRA_submission.tar\n",
      "Adding file 83 of 98 to SRA_submission.tar\n",
      "Adding file 84 of 98 to SRA_submission.tar\n",
      "Adding file 85 of 98 to SRA_submission.tar\n",
      "Adding file 86 of 98 to SRA_submission.tar\n",
      "Adding file 87 of 98 to SRA_submission.tar\n",
      "Adding file 88 of 98 to SRA_submission.tar\n",
      "Adding file 89 of 98 to SRA_submission.tar\n",
      "Adding file 90 of 98 to SRA_submission.tar\n",
      "Adding file 91 of 98 to SRA_submission.tar\n",
      "Adding file 92 of 98 to SRA_submission.tar\n",
      "Adding file 93 of 98 to SRA_submission.tar\n",
      "Adding file 94 of 98 to SRA_submission.tar\n",
      "Adding file 95 of 98 to SRA_submission.tar\n",
      "Adding file 96 of 98 to SRA_submission.tar\n",
      "Adding file 97 of 98 to SRA_submission.tar\n",
      "Adding file 98 of 98 to SRA_submission.tar\n",
      "Added all files to SRA_submission.tar\n"
     ]
    }
   ],
   "source": [
    "tar_filename = 'SRA_submission.tar'\n",
    "\n",
    "try:\n",
    "    with tarfile.open(tar_filename, mode='w') as f:\n",
    "        for i, tup in enumerate(fastqs.itertuples()):\n",
    "            print(f\"Adding file {i + 1} of {len(fastqs)} to {tar_filename}\")\n",
    "            f.add(tup.filename_fullpath, arcname=tup.filename)\n",
    "        print(f\"Added all files to {tar_filename}\")\n",
    "except:\n",
    "    if os.path.isfile(tar_filename):\n",
    "        os.remove(tar_filename)\n",
    "    raise"
   ]
  },
  {
   "cell_type": "markdown",
   "metadata": {},
   "source": [
    "See the size of the `*.tar` file to upload and make sure it has the expected files:"
   ]
  },
  {
   "cell_type": "code",
   "execution_count": 4,
   "metadata": {
    "execution": {
     "iopub.execute_input": "2022-08-30T23:15:38.932231Z",
     "iopub.status.busy": "2022-08-30T23:15:38.930311Z",
     "iopub.status.idle": "2022-08-30T23:15:38.959059Z",
     "shell.execute_reply": "2022-08-30T23:15:38.958614Z"
    }
   },
   "outputs": [
    {
     "name": "stdout",
     "output_type": "stream",
     "text": [
      "The size of SRA_submission.tar is 10.9 GB\n",
      "SRA_submission.tar contains all 98 expected files.\n"
     ]
    }
   ],
   "source": [
    "print(f\"The size of {tar_filename} is {os.path.getsize(tar_filename) / 1e9:.1f} GB\")\n",
    "\n",
    "with tarfile.open(tar_filename) as f:\n",
    "    files_in_tar = set(f.getnames())\n",
    "if files_in_tar == set(fastqs['filename']):\n",
    "    print(f\"{tar_filename} contains all {len(files_in_tar)} expected files.\")\n",
    "else:\n",
    "    raise ValueError(f\"{tar_filename} does not have all the expected files.\")"
   ]
  },
  {
   "cell_type": "markdown",
   "metadata": {},
   "source": [
    "We now read in the details about doing the FTP upload to the SRA.\n",
    "Note that these are set in separate files already:"
   ]
  },
  {
   "cell_type": "code",
   "execution_count": 5,
   "metadata": {
    "execution": {
     "iopub.execute_input": "2022-08-30T23:15:38.962622Z",
     "iopub.status.busy": "2022-08-30T23:15:38.961730Z",
     "iopub.status.idle": "2022-08-30T23:15:38.978116Z",
     "shell.execute_reply": "2022-08-30T23:15:38.977625Z"
    }
   },
   "outputs": [],
   "source": [
    "# the following are provided by SRA wizard insturctions\n",
    "ftp_address = 'ftp-private.ncbi.nlm.nih.gov'\n",
    "ftp_username = config['ftp_username'].strip()\n",
    "ftp_account_folder = config['ftp_account_folder'].strip()\n",
    "ftp_subfolder = config['ftp_subfolder'].strip()\n",
    "with open('ftp_password.txt') as f:\n",
    "    ftp_password = f.read().strip()"
   ]
  },
  {
   "cell_type": "markdown",
   "metadata": {},
   "source": [
    "Now create FTP connection and upload the TAR file.\n",
    "Note that this takes a while.\n",
    "If you are worried that it will timeout given the size of your file, you can run this notebook via `slurm` so there is no timing out:"
   ]
  },
  {
   "cell_type": "code",
   "execution_count": 6,
   "metadata": {
    "execution": {
     "iopub.execute_input": "2022-08-30T23:15:38.982095Z",
     "iopub.status.busy": "2022-08-30T23:15:38.981090Z",
     "iopub.status.idle": "2022-08-31T07:37:31.813739Z",
     "shell.execute_reply": "2022-08-31T07:37:31.812393Z"
    }
   },
   "outputs": [
    {
     "name": "stdout",
     "output_type": "stream",
     "text": [
      "Starting upload at 2022-08-30 16:15:38.984791\n",
      "Finished upload at 2022-08-31 00:37:31.805798\n"
     ]
    }
   ],
   "source": [
    "print(f\"Starting upload at {datetime.datetime.now()}\")\n",
    "\n",
    "with ftplib.FTP(ftp_address) as ftp:\n",
    "    ftp.login(user=ftp_username,\n",
    "              passwd=ftp_password,\n",
    "              )\n",
    "    ftp.cwd(ftp_account_folder)\n",
    "    ftp.mkd(ftp_subfolder)\n",
    "    ftp.cwd(ftp_subfolder)\n",
    "    with open(tar_filename, 'rb') as f:\n",
    "        ftp.storbinary(f\"STOR {tar_filename}\", f)\n",
    "        \n",
    "print(f\"Finished upload at {datetime.datetime.now()}\")"
   ]
  },
  {
   "cell_type": "code",
   "execution_count": null,
   "metadata": {},
   "outputs": [],
   "source": []
  }
 ],
 "metadata": {
  "kernelspec": {
   "display_name": "Python 3",
   "language": "python",
   "name": "python3"
  },
  "language_info": {
   "codemirror_mode": {
    "name": "ipython",
    "version": 3
   },
   "file_extension": ".py",
   "mimetype": "text/x-python",
   "name": "python",
   "nbconvert_exporter": "python",
   "pygments_lexer": "ipython3",
   "version": "3.8.13"
  }
 },
 "nbformat": 4,
 "nbformat_minor": 4
}

{
 "cells": [
  {
   "cell_type": "markdown",
   "id": "5c17a90f",
   "metadata": {},
   "source": [
    "# Visualizing Epistatic Shifts in VOCs\n",
    "\n",
    "Here, I make an interactive plot to visualize Epistatic shifts in the RBD of different variants of concern and an ancestral sequence from Wuhan. "
   ]
  },
  {
   "cell_type": "code",
   "execution_count": 1,
   "id": "1cbebffe",
   "metadata": {},
   "outputs": [
    {
     "data": {
      "text/plain": [
       "DataTransformerRegistry.enable('default')"
      ]
     },
     "execution_count": 1,
     "metadata": {},
     "output_type": "execute_result"
    }
   ],
   "source": [
    "import itertools \n",
    "import pandas as pd\n",
    "import numpy as np\n",
    "import altair as alt\n",
    "\n",
    "# Remove the limit of ~5000 rows\n",
    "alt.data_transformers.disable_max_rows()"
   ]
  },
  {
   "cell_type": "markdown",
   "id": "e6967e46",
   "metadata": {},
   "source": [
    "## Process the data \n",
    "\n",
    "I'll process the raw data from Tyler, rename columns where appropriate, calculate the shift between variants, and define the variants of concern. "
   ]
  },
  {
   "cell_type": "code",
   "execution_count": 2,
   "id": "164cdff7",
   "metadata": {},
   "outputs": [],
   "source": [
    "# ## == Filepaths == ##  \n",
    "\n",
    "# # Input path to variant scores \n",
    "# variant_scores_path = \"results/final_variant_scores/final_variant_scores.csv\"\n",
    "# # Input path to epistatic shifts (JS distance) \n",
    "# epistatic_shifts_path = \"results/epistatic_shifts/JSD_versus_Wuhan1_by_target.csv\"\n",
    "# \n",
    "# # Output path to wide-form variant scores \n",
    "# variant_scores_wide_path = \"results/final_variant_scores/final_variant_scores_wide.csv\"\n",
    "# # Output path to HTML plot file\n",
    "# output_html = \"docs/_includes/epistasis.html\""
   ]
  },
  {
   "cell_type": "code",
   "execution_count": 3,
   "id": "d69f7fdd",
   "metadata": {},
   "outputs": [
    {
     "ename": "NameError",
     "evalue": "name 'snakemake' is not defined",
     "output_type": "error",
     "traceback": [
      "\u001b[0;31m---------------------------------------------------------------------------\u001b[0m",
      "\u001b[0;31mNameError\u001b[0m                                 Traceback (most recent call last)",
      "Input \u001b[0;32mIn [3]\u001b[0m, in \u001b[0;36m<cell line: 4>\u001b[0;34m()\u001b[0m\n\u001b[1;32m      1\u001b[0m \u001b[38;5;66;03m## == Snakemake Filepaths == ##  \u001b[39;00m\n\u001b[1;32m      2\u001b[0m \n\u001b[1;32m      3\u001b[0m \u001b[38;5;66;03m# Input path to variant scores \u001b[39;00m\n\u001b[0;32m----> 4\u001b[0m variant_scores_path \u001b[38;5;241m=\u001b[39m \u001b[43msnakemake\u001b[49m\u001b[38;5;241m.\u001b[39minput\u001b[38;5;241m.\u001b[39mscores\n\u001b[1;32m      5\u001b[0m \u001b[38;5;66;03m# Input path to epistatic shifts (JS distance) \u001b[39;00m\n\u001b[1;32m      6\u001b[0m epistatic_shifts_path \u001b[38;5;241m=\u001b[39m snakemake\u001b[38;5;241m.\u001b[39minput\u001b[38;5;241m.\u001b[39mjsd\n",
      "\u001b[0;31mNameError\u001b[0m: name 'snakemake' is not defined"
     ]
    }
   ],
   "source": [
    "## == Snakemake Filepaths == ##  \n",
    "\n",
    "# Input path to variant scores \n",
    "variant_scores_path = snakemake.input.scores\n",
    "# Input path to epistatic shifts (JS distance) \n",
    "epistatic_shifts_path = snakemake.input.jsd\n",
    "\n",
    "# Output path to HTML plot file\n",
    "output_html = snakemake.output.html"
   ]
  },
  {
   "cell_type": "code",
   "execution_count": 3,
   "id": "ed8e0e8f",
   "metadata": {},
   "outputs": [],
   "source": [
    "# Variant names as a dictionary - ordered as they will appear in the lengend\n",
    "variants_names = {\n",
    "    \"Wuhan-Hu-1_v2\": \"Wuhan-Hu-1\",\n",
    "    \"Omicron_BA1\": \"Omicron BA.1\", \n",
    "    \"Omicron_BA2\": \"Omicron BA.2\",\n",
    "    \"Wuhan-Hu-1_v1\": \"Wuhan-Hu-1 (v1)\",\n",
    "    \"Alpha\": \"Alpha (v1)\", \n",
    "    \"Beta\": \"Beta (v1)\",\n",
    "    \"Delta\": \"Delta (v1)\",\n",
    "    \"Eta\": \"Eta (v1)\", \n",
    "}\n",
    "\n",
    "# Jensen-Shannon Distance of all pair-wise combinations of variant backgrounds -- for the line plot\n",
    "jsd_df = (\n",
    "    pd.read_csv(epistatic_shifts_path)\n",
    "    .rename(columns = {\"bg_1\":\"target\", \"bg_2\":\"background\"})\n",
    "    .replace({\"target\":variants_names,\n",
    "             \"background\":variants_names})\n",
    "    .drop(columns=[\"JSD\", \"JSD_min5bc\"])\n",
    ")\n",
    "\n",
    "\n",
    "# Expression and Binding scores per variant background -- for the scatter plot\n",
    "scores_df = (\n",
    "    pd.read_csv(variant_scores_path)\n",
    "    .rename(columns = {\"position\":\"site\"})\n",
    "    .replace({\"target\":variants_names})\n",
    ")\n",
    "\n",
    "# Drop the un-used columns\n",
    "scores_df = scores_df.drop(columns=[column for column in scores_df.columns\n",
    "                                   if column not in ['target', 'wildtype', 'site', 'mutant',\n",
    "                                                     'mutation', 'bind', 'delta_bind', 'n_bc_bind']\n",
    "                                   ]\n",
    "                          )\n",
    "\n",
    "## == Re-arrange the scores dataframe for all combinations of variant backgrounds == ##\n",
    "\n",
    "# Get a list of the background comparisons as a tuple\n",
    "background_comparisons = list(itertools.permutations({bkg for bkg in scores_df.target}, 2))\n",
    "\n",
    "# Set up the dataframe for the comparisons \n",
    "merged_comparisons = list()\n",
    "for comparison in background_comparisons: \n",
    "\n",
    "    # Filter on each comparison in the tuple, and rename one to background for join\n",
    "    target_df = scores_df.query(f'target == \"{comparison[0]}\"')\n",
    "    background_df = scores_df.query(f'target == \"{comparison[1]}\"').rename(columns={\"target\":\"background\"})\n",
    "    \n",
    "    # Rename the remaining columns for the join\n",
    "    target_df.columns = [column + \"_target\" \n",
    "                         if column not in [\"target\", \"site\", \"mutant\"] \n",
    "                         else column \n",
    "                         for column in target_df.columns]\n",
    "\n",
    "    \n",
    "    background_df.columns = [column + \"_background\" \n",
    "                             if column not in [\"background\", \"site\", \"mutant\"] \n",
    "                             else column \n",
    "                             for column in background_df.columns]\n",
    "    \n",
    "    # Merge the dataframe on \"wildtype\", \"site\", and \"mutant\"\n",
    "    merged_df = pd.merge(target_df, background_df, how=\"left\")\n",
    "    \n",
    "    # Save the combination to a list for concat\n",
    "    merged_comparisons.append(merged_df)\n",
    "\n",
    "background_comparison_df = pd.concat(merged_comparisons)\n",
    "\n",
    "# # Save this dataframe and track with github \n",
    "# background_comparison_df.to_csv(variant_scores_wide_path, index=False)"
   ]
  },
  {
   "cell_type": "markdown",
   "id": "2748e574",
   "metadata": {},
   "source": [
    "## Define plot-wide parameters\n",
    "\n",
    "Define the parameters that carry through to multiple plots for easy adjustment. "
   ]
  },
  {
   "cell_type": "code",
   "execution_count": 4,
   "id": "852ec281",
   "metadata": {},
   "outputs": [],
   "source": [
    "# Width of the line plot and zoom bar\n",
    "width = 1000\n",
    "\n",
    "# Height of the line plot and scatter plot\n",
    "height = 300\n",
    "\n",
    "# How to space the sites on the scatter plot or zoom bar \n",
    "min_site = min({site for site in jsd_df.site})\n",
    "max_site = max({site for site in jsd_df.site})\n",
    "x_axis_spacing = 5\n",
    "\n",
    "# Colors and names for the variant backgrounds\n",
    "variant_names = [variant for variant in variants_names.values()]\n",
    "variant_colors = [\"#999999\", \"#E69F00\", \"#CC79A7\"]\n",
    "\n",
    "# Tooltips for the lineplot and names \n",
    "line_tooltip = [\n",
    "    alt.Tooltip(\"site:O\", title=\"RBD Site\"),\n",
    "    alt.Tooltip('JSD_min3bc:Q', title=\"Epistatic Shift\", format=\".2f\")\n",
    "]\n",
    "\n",
    "# Tooltips for scatterplot and names\n",
    "scatter_tooltip = [\n",
    "    alt.Tooltip('target:N', title=\"Variant\"),\n",
    "    alt.Tooltip('mutation_target:N', title=\"Variant Mutation\"),\n",
    "    alt.Tooltip('delta_bind_target:Q', title=\"Variant Binding Difference\", format=\".2f\"),\n",
    "    alt.Tooltip('n_bc_bind_target:Q', title=\"Variant Barcodes\"),\n",
    "    alt.Tooltip('background:N', title=\"Comparator\"),   \n",
    "    alt.Tooltip('mutation_background:N', title=\"Comparator Mutation\"),\n",
    "    alt.Tooltip('delta_bind_background:Q', title=\"Comparator Binding Difference\", format=\".2f\"),\n",
    "    alt.Tooltip('n_bc_bind_background:Q', title=\"Comparator Barcodes\")\n",
    "]\n",
    "\n"
   ]
  },
  {
   "cell_type": "markdown",
   "id": "1d22bde5",
   "metadata": {},
   "source": [
    "## Define selections for plots \n",
    "\n",
    "Define the selecion objects that define interaction. Many of these are shared between plots and datasets, so it's helpful to define these at the top. "
   ]
  },
  {
   "cell_type": "code",
   "execution_count": 5,
   "id": "2b5f033a",
   "metadata": {},
   "outputs": [],
   "source": [
    "# Dropdown menu to select the variant comparator\n",
    "background_dropdown = alt.binding_select(options=[variant for variant in variants_names.values()], labels=[variant for variant in variants_names.values()], name=\"Select Comparator Background: \")\n",
    "background_selection = alt.selection_single(fields=['background'], bind=background_dropdown, init={\"background\":\"Wuhan-Hu-1\"})\n",
    "\n",
    "# Interactive legend to select the variant background\n",
    "target_selection = alt.selection_single(fields=[\"target\"], bind=\"legend\", init={\"target\":\"Wuhan-Hu-1\"}, empty='none')\n",
    "\n",
    "# Select a site in the RBD from the line plot to investigate in the scatter plot. \n",
    "site_selection = alt.selection_single(fields=[\"site\", \"target\", \"background\"], empty='none', on=\"click\")\n",
    "\n",
    "# Zoom bar brush to look closer at a region in the line plot. \n",
    "zoom_selection = alt.selection_interval(encodings=['x'], mark=alt.BrushConfig(stroke='black', strokeWidth=2))\n"
   ]
  },
  {
   "cell_type": "markdown",
   "id": "d1368f36",
   "metadata": {},
   "source": [
    "## Define the plot objects\n",
    "\n",
    "The final plot will be comprised of three main components - a **Zoom Bar**, a **Line Plot** of epistatic shift at each site, and a **Scatterplot** of the binding affinity (-log10 Kd) for each amino acid between comparisons. "
   ]
  },
  {
   "cell_type": "markdown",
   "id": "a95da686",
   "metadata": {},
   "source": [
    "### Zoom Bar"
   ]
  },
  {
   "cell_type": "code",
   "execution_count": 6,
   "id": "d753ca52",
   "metadata": {},
   "outputs": [],
   "source": [
    "## == Zoom bar for the line plot == ## \n",
    "zoom_bar = alt.Chart(jsd_df[['site']].drop_duplicates()\n",
    "    ).mark_rect(\n",
    "        color='lightgray'\n",
    "    ).encode(\n",
    "        x=alt.X('site:O',\n",
    "                title=\"site zoom bar\",\n",
    "                axis=alt.Axis(values=list(range(min_site, max_site, x_axis_spacing)))\n",
    "               )\n",
    "    ).add_selection(\n",
    "        zoom_selection\n",
    "    ).properties(\n",
    "        width=width,\n",
    "        height=15\n",
    ")\n"
   ]
  },
  {
   "cell_type": "markdown",
   "id": "2a565966",
   "metadata": {},
   "source": [
    "### Line Plot"
   ]
  },
  {
   "cell_type": "code",
   "execution_count": 7,
   "id": "7f1b1f4d",
   "metadata": {},
   "outputs": [],
   "source": [
    "## == Interactive line plot for Jensen Shannon Distance (a.k.a. Epistatic Shift) == ##\n",
    "\n",
    "# Define the base plot shared between components so that we don't save multiple dataframes redundantly\n",
    "lineplotbase = alt.Chart(jsd_df\n",
    "    ).encode(\n",
    "        x=alt.X('site:O',\n",
    "                title=\"RBD site\",\n",
    "                axis=alt.Axis(values=list(range(min_site, max_site, x_axis_spacing)))\n",
    "               ),\n",
    "        y=alt.Y(\"JSD_min3bc:Q\",\n",
    "                title=\"Epistatic shift in mutational effects\"\n",
    "               ),\n",
    "        color=alt.Color(\"target:N\",\n",
    "                        scale=alt.Scale(domain=variant_names, range=variant_colors),\n",
    "                        legend=alt.Legend(orient=\"top\", title=\"Select Variant: \")\n",
    "                ),\n",
    "        opacity=alt.condition(target_selection, alt.value(1.0), alt.value(0.1)),\n",
    ")\n",
    "\n",
    "\n",
    "# Add the line mark\n",
    "line = (lineplotbase.mark_line(point=True))\n",
    "\n",
    "# Add the point mark \n",
    "point = (lineplotbase.mark_point()\n",
    "             .encode(\n",
    "                 tooltip=line_tooltip,\n",
    "                 size=alt.condition(~site_selection, alt.value(50), alt.value(400)))\n",
    "             .transform_filter(target_selection)\n",
    "             .add_selection(site_selection)\n",
    ")\n",
    "\n",
    "# Combine the marks and add filters and selections shared between them\n",
    "line_point = (line + point).transform_filter(\n",
    "        background_selection\n",
    "    ).transform_filter(\n",
    "        zoom_selection\n",
    "    ).add_selection(\n",
    "        target_selection,\n",
    "        background_selection,\n",
    "        zoom_selection\n",
    "    ).properties(\n",
    "        width=width,\n",
    "        height=height\n",
    ")\n"
   ]
  },
  {
   "cell_type": "markdown",
   "id": "f12b6d41",
   "metadata": {},
   "source": [
    "### Scatterplot"
   ]
  },
  {
   "cell_type": "code",
   "execution_count": 8,
   "id": "7e0dd663",
   "metadata": {},
   "outputs": [],
   "source": [
    "## == Scatter Plot for binding affinity between Background and Comparator == ##\n",
    "\n",
    "# Define the base plot shared between components so that we don't save multiple dataframes redundantly\n",
    "scatterbase = alt.Chart(\n",
    "    background_comparison_df\n",
    ").transform_filter(\n",
    "    site_selection\n",
    ").transform_filter(\n",
    "    target_selection\n",
    ").transform_filter(\n",
    "    background_selection\n",
    ")\n",
    "\n",
    "# Add the text mark    \n",
    "aminoacids = (scatterbase\n",
    "                   .mark_text(size=16)\n",
    "                   .encode(x=alt.X(\n",
    "                               'bind_background:Q',\n",
    "                                title=\"Binding Affinity (-log10 Kd) Comparator\",\n",
    "                                scale=alt.Scale(domain=[4.5, 12])\n",
    "                           ),\n",
    "                           y=alt.Y(\n",
    "                                'bind_target:Q',\n",
    "                                title =\"Binding Affinity (-log10 Kd) Variant\",\n",
    "                                scale=alt.Scale(domain=[4.5, 12])\n",
    "                           ),\n",
    "                           text=\"mutant:N\",\n",
    "                           tooltip=scatter_tooltip\n",
    "                          )\n",
    "              )\n",
    "\n",
    "# Add the 'title' - altair doesn't support dynamic axes or titles, so it's just a mark.\n",
    "conditions = (scatterbase\n",
    "                   .mark_text(align='left', baseline='bottom', fontSize=13, fontWeight='bold')\n",
    "                   .encode(x=alt.value(0.0), y=alt.value(-2), text='_label:N')\n",
    "                   .transform_aggregate(groupby=[\"target\", \"background\", \"site\"])\n",
    "                   .transform_calculate(_label = '\"Comparing \" + datum.target + \" against \" + datum.background + \" at site \" + datum.site')\n",
    "              )\n",
    "\n",
    "# Add the x-rule indicating the WT binding of comparator \n",
    "xrule = (scatterbase\n",
    "                   .mark_rule(color=\"red\", strokeDash=[12, 6], size=2)\n",
    "                   .encode(x='bind_background:Q')\n",
    "                   .transform_filter(\"datum.wildtype_background == datum.mutant\")\n",
    "          )\n",
    "    \n",
    "# Add the y-rule indicating the WT binding of background     \n",
    "yrule = (scatterbase\n",
    "                   .mark_rule(color=\"red\", strokeDash=[12, 6], size=2)\n",
    "                   .encode(y='bind_target:Q')\n",
    "                   .transform_filter(\"datum.wildtype_target == datum.mutant\")\n",
    "          )\n",
    "    \n",
    "\n",
    "scatterplot_labeled = ((aminoacids + conditions + xrule + yrule)\n",
    "                       .add_selection(\n",
    "                            target_selection,\n",
    "                            background_selection,\n",
    "                            site_selection)\n",
    "                       .properties(\n",
    "                            width = height,\n",
    "                            height = height)\n",
    "                      )\n",
    "    "
   ]
  },
  {
   "cell_type": "markdown",
   "id": "d0d0f304",
   "metadata": {},
   "source": [
    "## Combine the plots \n",
    "\n",
    "Merge the plots into a single interactive plot for publishing on GitHub pages. "
   ]
  },
  {
   "cell_type": "code",
   "execution_count": 9,
   "id": "7825d53e",
   "metadata": {},
   "outputs": [
    {
     "data": {
      "text/plain": [
       "RendererRegistry.enable('default')"
      ]
     },
     "execution_count": 9,
     "metadata": {},
     "output_type": "execute_result"
    }
   ],
   "source": [
    "# Adjust the marings for rendering, otherwise the scatterplot gets cutoff\n",
    "alt.renderers.set_embed_options(\n",
    "    padding={\"left\": 25, \"right\": 100, \"bottom\": 25, \"top\": 25}\n",
    ")"
   ]
  },
  {
   "cell_type": "code",
   "execution_count": null,
   "id": "7547d72c",
   "metadata": {
    "scrolled": true
   },
   "outputs": [],
   "source": [
    "combined_plot = alt.hconcat(\n",
    "    (line_point & zoom_bar) | scatterplot_labeled\n",
    ").configure_point(\n",
    "    size=50\n",
    ").configure_axis(\n",
    "    labelFontSize=13,\n",
    "    titleFontSize=16\n",
    ").configure_legend(\n",
    "    labelFontSize=13,\n",
    "    titleFontSize=16\n",
    ")\n",
    "\n",
    "combined_plot"
   ]
  },
  {
   "cell_type": "code",
   "execution_count": null,
   "id": "f6f4fea0",
   "metadata": {},
   "outputs": [],
   "source": [
    "# Save the plot as HTML with extra padding for the scatterplot\n",
    "combined_plot.save(output_html, embed_options={\"padding\":{\"left\": 25, \"right\": 100, \"bottom\": 25, \"top\": 25}})\n"
   ]
  },
  {
   "cell_type": "markdown",
   "id": "d3bba1e4",
   "metadata": {},
   "source": [
    "# END"
   ]
  }
 ],
 "metadata": {
  "kernelspec": {
   "display_name": "Python 3 (ipykernel)",
   "language": "python",
   "name": "python3"
  },
  "language_info": {
   "codemirror_mode": {
    "name": "ipython",
    "version": 3
   },
   "file_extension": ".py",
   "mimetype": "text/x-python",
   "name": "python",
   "nbconvert_exporter": "python",
   "pygments_lexer": "ipython3",
   "version": "3.8.13"
  }
 },
 "nbformat": 4,
 "nbformat_minor": 5
}
